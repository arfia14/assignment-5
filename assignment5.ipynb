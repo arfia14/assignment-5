{
 "cells": [
  {
   "cell_type": "code",
   "execution_count": 1,
   "id": "14ea74dd",
   "metadata": {},
   "outputs": [
    {
     "name": "stdout",
     "output_type": "stream",
     "text": [
      "Fitting 5 folds for each of 16 candidates, totalling 80 fits\n",
      "Sample 1: Best parameters: {'C': 10, 'gamma': 0.1}, Accuracy score: 0.9777777777777777\n",
      "Fitting 5 folds for each of 16 candidates, totalling 80 fits\n",
      "Sample 2: Best parameters: {'C': 1, 'gamma': 1}, Accuracy score: 0.9555555555555556\n",
      "Fitting 5 folds for each of 16 candidates, totalling 80 fits\n",
      "Sample 3: Best parameters: {'C': 10, 'gamma': 0.01}, Accuracy score: 0.9777777777777777\n",
      "Fitting 5 folds for each of 16 candidates, totalling 80 fits\n",
      "Sample 4: Best parameters: {'C': 100, 'gamma': 0.01}, Accuracy score: 0.9777777777777777\n",
      "Fitting 5 folds for each of 16 candidates, totalling 80 fits\n",
      "Sample 5: Best parameters: {'C': 1, 'gamma': 1}, Accuracy score: 0.9777777777777777\n",
      "Fitting 5 folds for each of 16 candidates, totalling 80 fits\n",
      "Sample 6: Best parameters: {'C': 100, 'gamma': 0.01}, Accuracy score: 0.9777777777777777\n",
      "Fitting 5 folds for each of 16 candidates, totalling 80 fits\n",
      "Sample 7: Best parameters: {'C': 1, 'gamma': 0.1}, Accuracy score: 0.9111111111111111\n",
      "Fitting 5 folds for each of 16 candidates, totalling 80 fits\n",
      "Sample 8: Best parameters: {'C': 0.1, 'gamma': 1}, Accuracy score: 0.9111111111111111\n",
      "Fitting 5 folds for each of 16 candidates, totalling 80 fits\n",
      "Sample 9: Best parameters: {'C': 1, 'gamma': 1}, Accuracy score: 0.9333333333333333\n",
      "Fitting 5 folds for each of 16 candidates, totalling 80 fits\n",
      "Sample 10: Best parameters: {'C': 100, 'gamma': 0.01}, Accuracy score: 1.0\n",
      "Mean accuracy score: 0.96\n",
      "Standard deviation of accuracy score: 0.029481109247603547\n"
     ]
    }
   ],
   "source": [
    "# Import necessary libraries\n",
    "import pandas as pd\n",
    "from sklearn.model_selection import train_test_split\n",
    "from sklearn import svm\n",
    "from sklearn.model_selection import GridSearchCV\n",
    "from sklearn.metrics import accuracy_score\n",
    "import numpy as np\n",
    "\n",
    "# Load the dataset\n",
    "url = \"https://archive.ics.uci.edu/ml/machine-learning-databases/iris/iris.data\"\n",
    "df = pd.read_csv(url, header=None)\n",
    "\n",
    "# Set column names\n",
    "df.columns = ['sepal_length', 'sepal_width', 'petal_length', 'petal_width', 'class']\n",
    "\n",
    "# Set X and y\n",
    "X = df.drop(['class'], axis=1)\n",
    "y = df['class']\n",
    "\n",
    "# Set range of C and gamma values\n",
    "param_grid = {'C': [0.1, 1, 10, 100], 'gamma': [1, 0.1, 0.01, 0.001]}\n",
    "\n",
    "# Set number of iterations\n",
    "n_iter = 1000\n",
    "\n",
    "# Set number of samples\n",
    "n_samples = 10\n",
    "\n",
    "# Set empty list to store accuracy scores\n",
    "accuracy_scores = []\n",
    "\n",
    "# Split the dataset into 10 different samples and optimize SVM for each sample\n",
    "for i in range(n_samples):\n",
    "  X_train, X_test, y_train, y_test = train_test_split(X, y, test_size=0.3, random_state=i)\n",
    "  \n",
    "  # Create a grid search object and fit on the training data\n",
    "  grid = GridSearchCV(svm.SVC(max_iter=n_iter), param_grid, verbose=3, n_jobs=-1, cv=5)\n",
    "  grid.fit(X_train, y_train)\n",
    "\n",
    "  # Predict the test set\n",
    "  y_pred = grid.predict(X_test)\n",
    "\n",
    "  # Calculate accuracy score and append to list\n",
    "  accuracy_scores.append(accuracy_score(y_test, y_pred))\n",
    "\n",
    "  # Print the best parameters and accuracy score\n",
    "  print(\"Sample {}: Best parameters: {}, Accuracy score: {}\".format(i+1, grid.best_params_, accuracy_score(y_test, y_pred)))\n",
    "\n",
    "# Calculate the mean accuracy score and standard deviation\n",
    "mean_accuracy_score = np.mean(accuracy_scores)\n",
    "std_accuracy_score = np.std(accuracy_scores)\n",
    "\n",
    "# Print the mean and standard deviation of accuracy score\n",
    "print(\"Mean accuracy score: {}\".format(mean_accuracy_score))\n",
    "print(\"Standard deviation of accuracy score: {}\".format(std_accuracy_score))\n"
   ]
  },
  {
   "cell_type": "code",
   "execution_count": null,
   "id": "6b44fe98",
   "metadata": {},
   "outputs": [],
   "source": []
  }
 ],
 "metadata": {
  "kernelspec": {
   "display_name": "Python 3 (ipykernel)",
   "language": "python",
   "name": "python3"
  },
  "language_info": {
   "codemirror_mode": {
    "name": "ipython",
    "version": 3
   },
   "file_extension": ".py",
   "mimetype": "text/x-python",
   "name": "python",
   "nbconvert_exporter": "python",
   "pygments_lexer": "ipython3",
   "version": "3.9.13"
  }
 },
 "nbformat": 4,
 "nbformat_minor": 5
}
